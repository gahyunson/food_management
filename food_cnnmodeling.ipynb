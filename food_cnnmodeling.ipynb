{
  "nbformat": 4,
  "nbformat_minor": 0,
  "metadata": {
    "colab": {
      "name": "food_cnnmodeling",
      "provenance": [],
      "collapsed_sections": [],
      "include_colab_link": true
    },
    "kernelspec": {
      "display_name": "Python 3",
      "name": "python3"
    },
    "language_info": {
      "name": "python"
    }
  },
  "cells": [
    {
      "cell_type": "markdown",
      "metadata": {
        "id": "view-in-github",
        "colab_type": "text"
      },
      "source": [
        "<a href=\"https://colab.research.google.com/github/gahyunson/food_management/blob/main/food_cnnmodeling.ipynb\" target=\"_parent\"><img src=\"https://colab.research.google.com/assets/colab-badge.svg\" alt=\"Open In Colab\"/></a>"
      ]
    },
    {
      "cell_type": "markdown",
      "source": [
        "### Data load"
      ],
      "metadata": {
        "id": "lU4_tNC0vif6"
      }
    },
    {
      "cell_type": "code",
      "metadata": {
        "colab": {
          "base_uri": "https://localhost:8080/"
        },
        "id": "jau5qhLB43VW",
        "outputId": "3e927916-4c59-4f24-ff22-ec58dc27c22e"
      },
      "source": [
        "!pip3 install pickle5"
      ],
      "execution_count": null,
      "outputs": [
        {
          "output_type": "stream",
          "name": "stdout",
          "text": [
            "Collecting pickle5\n",
            "  Downloading pickle5-0.0.12-cp37-cp37m-manylinux_2_5_x86_64.manylinux1_x86_64.whl (256 kB)\n",
            "\u001b[?25l\r\u001b[K     |█▎                              | 10 kB 26.7 MB/s eta 0:00:01\r\u001b[K     |██▋                             | 20 kB 29.1 MB/s eta 0:00:01\r\u001b[K     |███▉                            | 30 kB 19.6 MB/s eta 0:00:01\r\u001b[K     |█████▏                          | 40 kB 16.0 MB/s eta 0:00:01\r\u001b[K     |██████▍                         | 51 kB 7.5 MB/s eta 0:00:01\r\u001b[K     |███████▊                        | 61 kB 8.8 MB/s eta 0:00:01\r\u001b[K     |█████████                       | 71 kB 6.9 MB/s eta 0:00:01\r\u001b[K     |██████████▎                     | 81 kB 7.7 MB/s eta 0:00:01\r\u001b[K     |███████████▌                    | 92 kB 8.5 MB/s eta 0:00:01\r\u001b[K     |████████████▉                   | 102 kB 7.1 MB/s eta 0:00:01\r\u001b[K     |██████████████                  | 112 kB 7.1 MB/s eta 0:00:01\r\u001b[K     |███████████████▍                | 122 kB 7.1 MB/s eta 0:00:01\r\u001b[K     |████████████████▋               | 133 kB 7.1 MB/s eta 0:00:01\r\u001b[K     |██████████████████              | 143 kB 7.1 MB/s eta 0:00:01\r\u001b[K     |███████████████████▏            | 153 kB 7.1 MB/s eta 0:00:01\r\u001b[K     |████████████████████▌           | 163 kB 7.1 MB/s eta 0:00:01\r\u001b[K     |█████████████████████▊          | 174 kB 7.1 MB/s eta 0:00:01\r\u001b[K     |███████████████████████         | 184 kB 7.1 MB/s eta 0:00:01\r\u001b[K     |████████████████████████▎       | 194 kB 7.1 MB/s eta 0:00:01\r\u001b[K     |█████████████████████████▋      | 204 kB 7.1 MB/s eta 0:00:01\r\u001b[K     |██████████████████████████▉     | 215 kB 7.1 MB/s eta 0:00:01\r\u001b[K     |████████████████████████████▏   | 225 kB 7.1 MB/s eta 0:00:01\r\u001b[K     |█████████████████████████████▍  | 235 kB 7.1 MB/s eta 0:00:01\r\u001b[K     |██████████████████████████████▊ | 245 kB 7.1 MB/s eta 0:00:01\r\u001b[K     |████████████████████████████████| 256 kB 7.1 MB/s eta 0:00:01\r\u001b[K     |████████████████████████████████| 256 kB 7.1 MB/s \n",
            "\u001b[?25hInstalling collected packages: pickle5\n",
            "Successfully installed pickle5-0.0.12\n"
          ]
        }
      ]
    },
    {
      "cell_type": "code",
      "metadata": {
        "id": "OVss_NagP7m0"
      },
      "source": [
        "import pickle5 as pickle\n",
        "import os\n",
        "import numpy as np\n",
        "import pandas as pd\n"
      ],
      "execution_count": null,
      "outputs": []
    },
    {
      "cell_type": "code",
      "metadata": {
        "colab": {
          "base_uri": "https://localhost:8080/",
          "height": 35
        },
        "id": "hQKc_0JJ475p",
        "outputId": "2495a04a-b944-4386-b4c3-a572fd660d11"
      },
      "source": [
        "#현재 주소\n",
        "path = os.getcwd() + '/drive/MyDrive/final_project/pickle'\n",
        "path"
      ],
      "execution_count": null,
      "outputs": [
        {
          "output_type": "execute_result",
          "data": {
            "application/vnd.google.colaboratory.intrinsic+json": {
              "type": "string"
            },
            "text/plain": [
              "'/content/drive/MyDrive/final_project/pickle'"
            ]
          },
          "metadata": {},
          "execution_count": 5
        }
      ]
    },
    {
      "cell_type": "code",
      "metadata": {
        "id": "uS0aXGX_6VmW"
      },
      "source": [
        "# 각 넘버에 따른 음식이름 \n",
        "food_dict = {'01011001' : '쌀밥', '12011008' : '배추김치', '04016001': '부대찌개', '01015013' : '카레', '01015010' : '제육덮밥'}"
      ],
      "execution_count": null,
      "outputs": []
    },
    {
      "cell_type": "code",
      "metadata": {
        "id": "BEd6zj3yzcBj"
      },
      "source": [
        "# 푸드 이미지 배열화 시킨 객체 load\n",
        "with open(path+'/x_pickle/food.pickle', 'rb') as f:\n",
        "    new_data = pickle.load(f)"
      ],
      "execution_count": null,
      "outputs": []
    },
    {
      "cell_type": "code",
      "metadata": {
        "colab": {
          "base_uri": "https://localhost:8080/"
        },
        "id": "9gWzUXFAAUem",
        "outputId": "d7fdbba3-5f6c-41b6-d4af-02d886fe886d"
      },
      "source": [
        "new_data.shape"
      ],
      "execution_count": null,
      "outputs": [
        {
          "output_type": "execute_result",
          "data": {
            "text/plain": [
              "(1500, 128, 128, 3)"
            ]
          },
          "metadata": {},
          "execution_count": 11
        }
      ]
    },
    {
      "cell_type": "code",
      "metadata": {
        "id": "QPW3XZUw3qlG"
      },
      "source": [
        "# labeling data load\n",
        "with open(path+'/y_pickle/food_label1.pickle', 'rb') as f:\n",
        "    temp_list = pickle.load(f)"
      ],
      "execution_count": null,
      "outputs": []
    },
    {
      "cell_type": "code",
      "metadata": {
        "colab": {
          "base_uri": "https://localhost:8080/"
        },
        "id": "uyjUmEf5-rz1",
        "outputId": "875b7601-ba71-4948-b0bc-2d39eaaff253"
      },
      "source": [
        "np.array(temp_list).shape"
      ],
      "execution_count": null,
      "outputs": [
        {
          "output_type": "execute_result",
          "data": {
            "text/plain": [
              "(1500,)"
            ]
          },
          "metadata": {},
          "execution_count": 13
        }
      ]
    },
    {
      "cell_type": "code",
      "metadata": {
        "id": "HLyjmi_CGd7u"
      },
      "source": [
        "# labeling data -> get dummies\n",
        "df_temp = pd.get_dummies(temp_list)"
      ],
      "execution_count": null,
      "outputs": []
    },
    {
      "cell_type": "code",
      "metadata": {
        "id": "H_yMt_yWAEJP"
      },
      "source": [
        " # dummy labeling -> numpy array labeling\n",
        " label = np.array(df_temp)"
      ],
      "execution_count": null,
      "outputs": []
    },
    {
      "cell_type": "code",
      "metadata": {
        "colab": {
          "base_uri": "https://localhost:8080/"
        },
        "id": "AKyMPuFcGTBE",
        "outputId": "1b29fbf9-1bca-4eed-9d81-4c7522e5f0c7"
      },
      "source": [
        "label.shape"
      ],
      "execution_count": null,
      "outputs": [
        {
          "output_type": "execute_result",
          "data": {
            "text/plain": [
              "(1500, 5)"
            ]
          },
          "metadata": {},
          "execution_count": 16
        }
      ]
    },
    {
      "cell_type": "code",
      "metadata": {
        "colab": {
          "base_uri": "https://localhost:8080/"
        },
        "id": "uVNBkgKMfiVg",
        "outputId": "9537769c-bd54-4783-d9b4-10e572a11f11"
      },
      "source": [
        "label"
      ],
      "execution_count": null,
      "outputs": [
        {
          "output_type": "execute_result",
          "data": {
            "text/plain": [
              "array([[0, 0, 1, 0, 0],\n",
              "       [0, 0, 1, 0, 0],\n",
              "       [0, 0, 1, 0, 0],\n",
              "       ...,\n",
              "       [0, 0, 0, 1, 0],\n",
              "       [0, 0, 0, 1, 0],\n",
              "       [0, 0, 0, 1, 0]], dtype=uint8)"
            ]
          },
          "metadata": {},
          "execution_count": 17
        }
      ]
    },
    {
      "cell_type": "code",
      "metadata": {
        "id": "O_NplPzafxBz"
      },
      "source": [
        "food_index = {0:'01011001', 1:'01015010', 2:'01015013', 3:'04016001', 4:'12011008'}"
      ],
      "execution_count": null,
      "outputs": []
    },
    {
      "cell_type": "markdown",
      "metadata": {
        "id": "zx6yVdJr5nb5"
      },
      "source": [
        "# 모델링"
      ]
    },
    {
      "cell_type": "code",
      "metadata": {
        "id": "F4taltqVAV9x"
      },
      "source": [
        "from keras.models import Sequential\n",
        "from keras.layers import Embedding, Conv2D, Dense, MaxPooling2D, Flatten, Dropout, Activation\n",
        "from keras.callbacks import ModelCheckpoint, EarlyStopping\n",
        "from keras.utils import np_utils\n",
        "\n",
        "from keras.preprocessing import image\n",
        "#파일 이미지 깨진 부분 오류 메세지 처리 \n",
        "from PIL import ImageFile\n",
        "ImageFile.LOAD_TRUNCATED_IMAGES = True \n",
        "from PIL import Image"
      ],
      "execution_count": null,
      "outputs": []
    },
    {
      "cell_type": "code",
      "metadata": {
        "id": "gm4S3jDaVbxG"
      },
      "source": [
        "# 모델 튜닝 고민해야 할 점\n",
        "\n",
        "#1. Conv2D를 128, 64 로 ? input_shape가 128, 128 인데 64는 너무 축소...\n",
        "#2. layer은 2개로 충분한가 ?\n",
        "#3. Dropout은 얼마로 정할까."
      ],
      "execution_count": null,
      "outputs": []
    },
    {
      "cell_type": "code",
      "metadata": {
        "id": "_Msx8tvtHH85"
      },
      "source": [
        "model=Sequential()\n",
        "model.add(Conv2D(128 ,kernel_size=(3,3), input_shape=(128,128,3),activation='relu', padding='same'))\n",
        "model.add(Activation('relu'))\n",
        "model.add(MaxPooling2D(pool_size=(2, 2)))\n",
        "model.add(Dropout(0.5))\n",
        "\n",
        "model.add(Conv2D(64, (3, 3), padding='same'))\n",
        "model.add(Activation('relu'))\n",
        "\n",
        "model.add(Conv2D(32, (3, 3)))\n",
        "# model.add(MaxPooling2D(pool_size=(2, 2)))\n",
        "# model.add(Dropout(0.25))\n",
        "model.add(Conv2D(32  ,kernel_size=(3,3),activation='relu'))\n",
        "# model.add(MaxPooling2D(pool_size=2))\n",
        "model.add(Dropout(0.5))\n",
        "model.add(Flatten())\n",
        "model.add(Dense(64, activation='relu'))\n",
        "model.add(Dropout(0.25))\n",
        "model.add(Dense(label.shape[1], activation='softmax'))"
      ],
      "execution_count": null,
      "outputs": []
    },
    {
      "cell_type": "code",
      "metadata": {
        "id": "vOGP-eZbHOw6"
      },
      "source": [
        "#환경 설정\n",
        "model.compile(loss='categorical_crossentropy',\n",
        "             optimizer='adam',\n",
        "             metrics=['accuracy'])"
      ],
      "execution_count": null,
      "outputs": []
    },
    {
      "cell_type": "code",
      "metadata": {
        "colab": {
          "base_uri": "https://localhost:8080/"
        },
        "id": "MjiX6AZLHRSC",
        "outputId": "21f924cb-66ba-4ad9-e9c3-15e26753fb53"
      },
      "source": [
        "history=model.fit(new_data,label, epochs=100, batch_size=40)"
      ],
      "execution_count": null,
      "outputs": [
        {
          "output_type": "stream",
          "name": "stdout",
          "text": [
            "Epoch 1/100\n",
            "38/38 [==============================] - 151s 4s/step - loss: 1.4825 - accuracy: 0.3327\n",
            "Epoch 2/100\n",
            "38/38 [==============================] - 148s 4s/step - loss: 1.1389 - accuracy: 0.4933\n",
            "Epoch 3/100\n",
            "38/38 [==============================] - 151s 4s/step - loss: 1.0669 - accuracy: 0.5133\n",
            "Epoch 4/100\n",
            "38/38 [==============================] - 148s 4s/step - loss: 1.0311 - accuracy: 0.5460\n",
            "Epoch 5/100\n",
            "38/38 [==============================] - 147s 4s/step - loss: 0.9818 - accuracy: 0.5647\n",
            "Epoch 6/100\n",
            "38/38 [==============================] - 147s 4s/step - loss: 0.9418 - accuracy: 0.5980\n",
            "Epoch 7/100\n",
            "38/38 [==============================] - 150s 4s/step - loss: 0.8720 - accuracy: 0.6213\n",
            "Epoch 8/100\n",
            "38/38 [==============================] - 148s 4s/step - loss: 0.8647 - accuracy: 0.6413\n",
            "Epoch 9/100\n",
            "38/38 [==============================] - 148s 4s/step - loss: 0.9104 - accuracy: 0.6373\n",
            "Epoch 10/100\n",
            "38/38 [==============================] - 147s 4s/step - loss: 0.8328 - accuracy: 0.6713\n",
            "Epoch 11/100\n",
            "38/38 [==============================] - 150s 4s/step - loss: 0.7241 - accuracy: 0.7060\n",
            "Epoch 12/100\n",
            "38/38 [==============================] - 148s 4s/step - loss: 0.7408 - accuracy: 0.6967\n",
            "Epoch 13/100\n",
            "38/38 [==============================] - 147s 4s/step - loss: 0.6463 - accuracy: 0.7373\n",
            "Epoch 14/100\n",
            "38/38 [==============================] - 147s 4s/step - loss: 0.6377 - accuracy: 0.7353\n",
            "Epoch 15/100\n",
            "38/38 [==============================] - 148s 4s/step - loss: 0.6034 - accuracy: 0.7540\n",
            "Epoch 16/100\n",
            "38/38 [==============================] - 147s 4s/step - loss: 0.5508 - accuracy: 0.7680\n",
            "Epoch 17/100\n",
            "38/38 [==============================] - 147s 4s/step - loss: 0.5246 - accuracy: 0.7880\n",
            "Epoch 18/100\n",
            "38/38 [==============================] - 146s 4s/step - loss: 0.4810 - accuracy: 0.7960\n",
            "Epoch 19/100\n",
            "38/38 [==============================] - 146s 4s/step - loss: 0.4288 - accuracy: 0.8253\n",
            "Epoch 20/100\n",
            "38/38 [==============================] - 146s 4s/step - loss: 0.4378 - accuracy: 0.8153\n",
            "Epoch 21/100\n",
            "38/38 [==============================] - 146s 4s/step - loss: 0.4330 - accuracy: 0.8233\n",
            "Epoch 22/100\n",
            "38/38 [==============================] - 146s 4s/step - loss: 0.3659 - accuracy: 0.8400\n",
            "Epoch 23/100\n",
            "38/38 [==============================] - 146s 4s/step - loss: 0.3264 - accuracy: 0.8613\n",
            "Epoch 24/100\n",
            "38/38 [==============================] - 146s 4s/step - loss: 0.3110 - accuracy: 0.8713\n",
            "Epoch 25/100\n",
            "38/38 [==============================] - 146s 4s/step - loss: 0.2480 - accuracy: 0.8953\n",
            "Epoch 26/100\n",
            "38/38 [==============================] - 146s 4s/step - loss: 0.2895 - accuracy: 0.8860\n",
            "Epoch 27/100\n",
            "38/38 [==============================] - 146s 4s/step - loss: 0.2000 - accuracy: 0.9107\n",
            "Epoch 28/100\n",
            "38/38 [==============================] - 145s 4s/step - loss: 0.2159 - accuracy: 0.9060\n",
            "Epoch 29/100\n",
            "38/38 [==============================] - 146s 4s/step - loss: 0.2249 - accuracy: 0.9187\n",
            "Epoch 30/100\n",
            "38/38 [==============================] - 146s 4s/step - loss: 0.2012 - accuracy: 0.9180\n",
            "Epoch 31/100\n",
            "38/38 [==============================] - 146s 4s/step - loss: 0.2056 - accuracy: 0.9160\n",
            "Epoch 32/100\n",
            "38/38 [==============================] - 146s 4s/step - loss: 0.1682 - accuracy: 0.9300\n",
            "Epoch 33/100\n",
            "38/38 [==============================] - 146s 4s/step - loss: 0.1419 - accuracy: 0.9393\n",
            "Epoch 34/100\n",
            "38/38 [==============================] - 146s 4s/step - loss: 0.1306 - accuracy: 0.9413\n",
            "Epoch 35/100\n",
            "38/38 [==============================] - 146s 4s/step - loss: 0.1537 - accuracy: 0.9373\n",
            "Epoch 36/100\n",
            "38/38 [==============================] - 145s 4s/step - loss: 0.1380 - accuracy: 0.9413\n",
            "Epoch 37/100\n",
            "38/38 [==============================] - 146s 4s/step - loss: 0.1239 - accuracy: 0.9500\n",
            "Epoch 38/100\n",
            "38/38 [==============================] - 146s 4s/step - loss: 0.2071 - accuracy: 0.9200\n",
            "Epoch 39/100\n",
            "38/38 [==============================] - 146s 4s/step - loss: 0.1411 - accuracy: 0.9467\n",
            "Epoch 40/100\n",
            "38/38 [==============================] - 146s 4s/step - loss: 0.1625 - accuracy: 0.9387\n",
            "Epoch 41/100\n",
            "38/38 [==============================] - 146s 4s/step - loss: 0.1037 - accuracy: 0.9613\n",
            "Epoch 42/100\n",
            "38/38 [==============================] - 146s 4s/step - loss: 0.1096 - accuracy: 0.9580\n",
            "Epoch 43/100\n",
            "38/38 [==============================] - 146s 4s/step - loss: 0.1078 - accuracy: 0.9593\n",
            "Epoch 44/100\n",
            "38/38 [==============================] - 146s 4s/step - loss: 0.1077 - accuracy: 0.9533\n",
            "Epoch 45/100\n",
            "38/38 [==============================] - 146s 4s/step - loss: 0.0962 - accuracy: 0.9627\n",
            "Epoch 46/100\n",
            "38/38 [==============================] - 146s 4s/step - loss: 0.1041 - accuracy: 0.9600\n",
            "Epoch 47/100\n",
            "38/38 [==============================] - 146s 4s/step - loss: 0.0930 - accuracy: 0.9640\n",
            "Epoch 48/100\n",
            "38/38 [==============================] - 146s 4s/step - loss: 0.1046 - accuracy: 0.9593\n",
            "Epoch 49/100\n",
            "38/38 [==============================] - 146s 4s/step - loss: 0.1077 - accuracy: 0.9613\n",
            "Epoch 50/100\n",
            "38/38 [==============================] - 146s 4s/step - loss: 0.1100 - accuracy: 0.9607\n",
            "Epoch 51/100\n",
            "38/38 [==============================] - 146s 4s/step - loss: 0.0935 - accuracy: 0.9660\n",
            "Epoch 52/100\n",
            "38/38 [==============================] - 146s 4s/step - loss: 0.0814 - accuracy: 0.9673\n",
            "Epoch 53/100\n",
            "38/38 [==============================] - 147s 4s/step - loss: 0.0913 - accuracy: 0.9627\n",
            "Epoch 54/100\n",
            "38/38 [==============================] - 147s 4s/step - loss: 0.0825 - accuracy: 0.9653\n",
            "Epoch 55/100\n",
            "38/38 [==============================] - 147s 4s/step - loss: 0.1309 - accuracy: 0.9553\n",
            "Epoch 56/100\n",
            "38/38 [==============================] - 147s 4s/step - loss: 0.1097 - accuracy: 0.9607\n",
            "Epoch 57/100\n",
            "38/38 [==============================] - 146s 4s/step - loss: 0.0854 - accuracy: 0.9667\n",
            "Epoch 58/100\n",
            "38/38 [==============================] - 147s 4s/step - loss: 0.0890 - accuracy: 0.9700\n",
            "Epoch 59/100\n",
            "38/38 [==============================] - 147s 4s/step - loss: 0.1028 - accuracy: 0.9607\n",
            "Epoch 60/100\n",
            "38/38 [==============================] - 148s 4s/step - loss: 0.0819 - accuracy: 0.9660\n",
            "Epoch 61/100\n",
            "38/38 [==============================] - 147s 4s/step - loss: 0.0812 - accuracy: 0.9700\n",
            "Epoch 62/100\n",
            "38/38 [==============================] - 146s 4s/step - loss: 0.1102 - accuracy: 0.9627\n",
            "Epoch 63/100\n",
            "38/38 [==============================] - 147s 4s/step - loss: 0.0679 - accuracy: 0.9720\n",
            "Epoch 64/100\n",
            "38/38 [==============================] - 147s 4s/step - loss: 0.0662 - accuracy: 0.9727\n",
            "Epoch 65/100\n",
            "38/38 [==============================] - 147s 4s/step - loss: 0.0600 - accuracy: 0.9787\n",
            "Epoch 66/100\n",
            "38/38 [==============================] - 147s 4s/step - loss: 0.0556 - accuracy: 0.9773\n",
            "Epoch 67/100\n",
            "38/38 [==============================] - 147s 4s/step - loss: 0.1030 - accuracy: 0.9620\n",
            "Epoch 68/100\n",
            "38/38 [==============================] - 147s 4s/step - loss: 0.0992 - accuracy: 0.9680\n",
            "Epoch 69/100\n",
            "38/38 [==============================] - 147s 4s/step - loss: 0.0703 - accuracy: 0.9700\n",
            "Epoch 70/100\n",
            "38/38 [==============================] - 147s 4s/step - loss: 0.0572 - accuracy: 0.9800\n",
            "Epoch 71/100\n",
            "38/38 [==============================] - 150s 4s/step - loss: 0.0705 - accuracy: 0.9687\n",
            "Epoch 72/100\n",
            "38/38 [==============================] - 147s 4s/step - loss: 0.0600 - accuracy: 0.9780\n",
            "Epoch 73/100\n",
            "38/38 [==============================] - 146s 4s/step - loss: 0.0457 - accuracy: 0.9780\n",
            "Epoch 74/100\n",
            "38/38 [==============================] - 147s 4s/step - loss: 0.1037 - accuracy: 0.9620\n",
            "Epoch 75/100\n",
            "38/38 [==============================] - 147s 4s/step - loss: 0.0709 - accuracy: 0.9693\n",
            "Epoch 76/100\n",
            "38/38 [==============================] - 147s 4s/step - loss: 0.0659 - accuracy: 0.9773\n",
            "Epoch 77/100\n",
            "38/38 [==============================] - 147s 4s/step - loss: 0.0636 - accuracy: 0.9733\n",
            "Epoch 78/100\n",
            "38/38 [==============================] - 147s 4s/step - loss: 0.0600 - accuracy: 0.9747\n",
            "Epoch 79/100\n",
            "38/38 [==============================] - 146s 4s/step - loss: 0.0573 - accuracy: 0.9780\n",
            "Epoch 80/100\n",
            "38/38 [==============================] - 146s 4s/step - loss: 0.0457 - accuracy: 0.9813\n",
            "Epoch 81/100\n",
            "38/38 [==============================] - 147s 4s/step - loss: 0.0662 - accuracy: 0.9700\n",
            "Epoch 82/100\n",
            "38/38 [==============================] - 147s 4s/step - loss: 0.0580 - accuracy: 0.9727\n",
            "Epoch 83/100\n",
            "38/38 [==============================] - 147s 4s/step - loss: 0.0591 - accuracy: 0.9767\n",
            "Epoch 84/100\n",
            "38/38 [==============================] - 147s 4s/step - loss: 0.0561 - accuracy: 0.9760\n",
            "Epoch 85/100\n",
            "38/38 [==============================] - 147s 4s/step - loss: 0.0628 - accuracy: 0.9740\n",
            "Epoch 86/100\n",
            "38/38 [==============================] - 147s 4s/step - loss: 0.0615 - accuracy: 0.9753\n",
            "Epoch 87/100\n",
            "38/38 [==============================] - 147s 4s/step - loss: 0.0619 - accuracy: 0.9713\n",
            "Epoch 88/100\n",
            "38/38 [==============================] - 147s 4s/step - loss: 0.1250 - accuracy: 0.9587\n",
            "Epoch 89/100\n",
            "38/38 [==============================] - 147s 4s/step - loss: 0.1146 - accuracy: 0.9600\n",
            "Epoch 90/100\n",
            "38/38 [==============================] - 147s 4s/step - loss: 0.0927 - accuracy: 0.9633\n",
            "Epoch 91/100\n",
            "38/38 [==============================] - 147s 4s/step - loss: 0.1003 - accuracy: 0.9667\n",
            "Epoch 92/100\n",
            "38/38 [==============================] - 147s 4s/step - loss: 0.0702 - accuracy: 0.9733\n",
            "Epoch 93/100\n",
            "38/38 [==============================] - 147s 4s/step - loss: 0.0611 - accuracy: 0.9747\n",
            "Epoch 94/100\n",
            "38/38 [==============================] - 147s 4s/step - loss: 0.0587 - accuracy: 0.9747\n",
            "Epoch 95/100\n",
            "38/38 [==============================] - 147s 4s/step - loss: 0.0591 - accuracy: 0.9760\n",
            "Epoch 96/100\n",
            "38/38 [==============================] - 147s 4s/step - loss: 0.0493 - accuracy: 0.9813\n",
            "Epoch 97/100\n",
            "38/38 [==============================] - 147s 4s/step - loss: 0.0609 - accuracy: 0.9787\n",
            "Epoch 98/100\n",
            "38/38 [==============================] - 146s 4s/step - loss: 0.0670 - accuracy: 0.9740\n",
            "Epoch 99/100\n",
            "38/38 [==============================] - 146s 4s/step - loss: 0.0435 - accuracy: 0.9833\n",
            "Epoch 100/100\n",
            "38/38 [==============================] - 146s 4s/step - loss: 0.0482 - accuracy: 0.9827\n"
          ]
        }
      ]
    },
    {
      "cell_type": "code",
      "source": [
        "model.save('./drive/MyDrive/final_project/model/model5.h5') #모델 저장"
      ],
      "metadata": {
        "id": "I3ruAEmGw2rX"
      },
      "execution_count": null,
      "outputs": []
    }
  ]
}