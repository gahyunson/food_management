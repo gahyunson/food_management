{
  "nbformat": 4,
  "nbformat_minor": 0,
  "metadata": {
    "colab": {
      "name": "food_client.ipynb",
      "provenance": [],
      "collapsed_sections": [],
      "include_colab_link": true
    },
    "kernelspec": {
      "display_name": "Python 3",
      "name": "python3"
    },
    "language_info": {
      "name": "python"
    }
  },
  "cells": [
    {
      "cell_type": "markdown",
      "metadata": {
        "id": "view-in-github",
        "colab_type": "text"
      },
      "source": [
        "<a href=\"https://colab.research.google.com/github/gahyunson/food_management/blob/main/food_client.ipynb\" target=\"_parent\"><img src=\"https://colab.research.google.com/assets/colab-badge.svg\" alt=\"Open In Colab\"/></a>"
      ]
    },
    {
      "cell_type": "code",
      "metadata": {
        "colab": {
          "base_uri": "https://localhost:8080/"
        },
        "id": "EYzLOh7dpD_W",
        "outputId": "e63ad795-5382-43c4-f896-43b1611d8e6c"
      },
      "source": [
        "!bash\n",
        "\n",
        "# !bash 실행\n",
        "# cd /content/drive/MyDrive/final_project/test\n",
        "# python test.py\n",
        "# food_server에서 url 복사해서 넣기\n",
        "# http://60cb-34-78-155-229.ngrok.io"
      ],
      "execution_count": null,
      "outputs": [
        {
          "output_type": "stream",
          "name": "stdout",
          "text": [
            "bash: cannot set terminal process group (61): Inappropriate ioctl for device\n",
            "bash: no job control in this shell\n",
            "\u001b[01;34m/content\u001b[00m# cd /content/drive/MyDrive/final_project/test\n",
            "\u001b[01;34m/content/drive/MyDrive/final_project/test\u001b[00m# python test.py\n",
            "url을 입력하세요 : http://29ab-34-133-17-78.ngrok.io\n",
            "\n",
            "rice.jpg 분석중\n",
            "  % Total    % Received % Xferd  Average Speed   Time    Time     Time  Current\n",
            "                                 Dload  Upload   Total   Spent    Left  Speed\n",
            "100 2651k  100    26  100 2651k      7   746k  0:00:03  0:00:03 --:--:--  746k\n",
            "\n",
            "jaeyook.jpg 분석중\n",
            "  % Total    % Received % Xferd  Average Speed   Time    Time     Time  Current\n",
            "                                 Dload  Upload   Total   Spent    Left  Speed\n",
            "100 2773k  100    26  100 2773k     11  1218k  0:00:02  0:00:02 --:--:-- 1218k\n",
            "\n",
            "kimch.jpg 분석중\n",
            "  % Total    % Received % Xferd  Average Speed   Time    Time     Time  Current\n",
            "                                 Dload  Upload   Total   Spent    Left  Speed\n",
            "100 3728k  100    26  100 3728k      7  1068k  0:00:03  0:00:03 --:--:-- 1068k\n",
            "\n",
            "curry.jpg 분석중\n",
            "  % Total    % Received % Xferd  Average Speed   Time    Time     Time  Current\n",
            "                                 Dload  Upload   Total   Spent    Left  Speed\n",
            "100  743k  100    26  100  743k     11   339k  0:00:02  0:00:02 --:--:--  339k\n",
            "성별을 입력하세요 (m  or f) : m\n",
            "음식리스트: ['rice.jpg', 'jaeyook.jpg', 'kimch.jpg', 'curry.jpg']\n",
            "\n",
            "\n",
            "먹은 음식 : ['쌀밥', '제육(돼지고기)', '김치(배추김치)', '카레라이스']\n",
            "해당 칼로리 : [405.0, 124.0, 7.0, 433.8]\n",
            "해당 나트륨 : [8.0, 47.0, 458.0, 1180.0]\n",
            "\n",
            "추천 음식 : ['돼지고기덮밥' '회덮밥']\n",
            "\u001b[01;34m/content/drive/MyDrive/final_project/test\u001b[00m# \n",
            "\u001b[01;34m/content/drive/MyDrive/final_project/test\u001b[00m# \n",
            "\u001b[01;34m/content/drive/MyDrive/final_project/test\u001b[00m# ^C\n"
          ]
        }
      ]
    }
  ]
}